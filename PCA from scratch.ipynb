{
 "cells": [
  {
   "cell_type": "code",
   "execution_count": 1,
   "id": "3b652b82",
   "metadata": {},
   "outputs": [],
   "source": [
    "import numpy as np\n",
    "import pandas as pd"
   ]
  },
  {
   "cell_type": "markdown",
   "id": "24def6a1",
   "metadata": {},
   "source": [
    "## Loading the Data"
   ]
  },
  {
   "cell_type": "code",
   "execution_count": 2,
   "id": "22143b1a",
   "metadata": {},
   "outputs": [
    {
     "data": {
      "text/html": [
       "<div>\n",
       "<style scoped>\n",
       "    .dataframe tbody tr th:only-of-type {\n",
       "        vertical-align: middle;\n",
       "    }\n",
       "\n",
       "    .dataframe tbody tr th {\n",
       "        vertical-align: top;\n",
       "    }\n",
       "\n",
       "    .dataframe thead th {\n",
       "        text-align: right;\n",
       "    }\n",
       "</style>\n",
       "<table border=\"1\" class=\"dataframe\">\n",
       "  <thead>\n",
       "    <tr style=\"text-align: right;\">\n",
       "      <th></th>\n",
       "      <th>Channel</th>\n",
       "      <th>Region</th>\n",
       "      <th>Fresh</th>\n",
       "      <th>Milk</th>\n",
       "      <th>Grocery</th>\n",
       "      <th>Frozen</th>\n",
       "      <th>Detergents_Paper</th>\n",
       "      <th>Delicassen</th>\n",
       "    </tr>\n",
       "  </thead>\n",
       "  <tbody>\n",
       "    <tr>\n",
       "      <th>0</th>\n",
       "      <td>2</td>\n",
       "      <td>3</td>\n",
       "      <td>12669</td>\n",
       "      <td>9656</td>\n",
       "      <td>7561</td>\n",
       "      <td>214</td>\n",
       "      <td>2674</td>\n",
       "      <td>1338</td>\n",
       "    </tr>\n",
       "    <tr>\n",
       "      <th>1</th>\n",
       "      <td>2</td>\n",
       "      <td>3</td>\n",
       "      <td>7057</td>\n",
       "      <td>9810</td>\n",
       "      <td>9568</td>\n",
       "      <td>1762</td>\n",
       "      <td>3293</td>\n",
       "      <td>1776</td>\n",
       "    </tr>\n",
       "    <tr>\n",
       "      <th>2</th>\n",
       "      <td>2</td>\n",
       "      <td>3</td>\n",
       "      <td>6353</td>\n",
       "      <td>8808</td>\n",
       "      <td>7684</td>\n",
       "      <td>2405</td>\n",
       "      <td>3516</td>\n",
       "      <td>7844</td>\n",
       "    </tr>\n",
       "    <tr>\n",
       "      <th>3</th>\n",
       "      <td>1</td>\n",
       "      <td>3</td>\n",
       "      <td>13265</td>\n",
       "      <td>1196</td>\n",
       "      <td>4221</td>\n",
       "      <td>6404</td>\n",
       "      <td>507</td>\n",
       "      <td>1788</td>\n",
       "    </tr>\n",
       "    <tr>\n",
       "      <th>4</th>\n",
       "      <td>2</td>\n",
       "      <td>3</td>\n",
       "      <td>22615</td>\n",
       "      <td>5410</td>\n",
       "      <td>7198</td>\n",
       "      <td>3915</td>\n",
       "      <td>1777</td>\n",
       "      <td>5185</td>\n",
       "    </tr>\n",
       "  </tbody>\n",
       "</table>\n",
       "</div>"
      ],
      "text/plain": [
       "   Channel  Region  Fresh  Milk  Grocery  Frozen  Detergents_Paper  Delicassen\n",
       "0        2       3  12669  9656     7561     214              2674        1338\n",
       "1        2       3   7057  9810     9568    1762              3293        1776\n",
       "2        2       3   6353  8808     7684    2405              3516        7844\n",
       "3        1       3  13265  1196     4221    6404               507        1788\n",
       "4        2       3  22615  5410     7198    3915              1777        5185"
      ]
     },
     "execution_count": 2,
     "metadata": {},
     "output_type": "execute_result"
    }
   ],
   "source": [
    "df = pd.read_csv('Wholesale customers data.csv')\n",
    "df.head()"
   ]
  },
  {
   "cell_type": "code",
   "execution_count": 3,
   "id": "bc1dbbac",
   "metadata": {},
   "outputs": [
    {
     "name": "stdout",
     "output_type": "stream",
     "text": [
      "<class 'pandas.core.frame.DataFrame'>\n",
      "RangeIndex: 440 entries, 0 to 439\n",
      "Data columns (total 8 columns):\n",
      " #   Column            Non-Null Count  Dtype\n",
      "---  ------            --------------  -----\n",
      " 0   Channel           440 non-null    int64\n",
      " 1   Region            440 non-null    int64\n",
      " 2   Fresh             440 non-null    int64\n",
      " 3   Milk              440 non-null    int64\n",
      " 4   Grocery           440 non-null    int64\n",
      " 5   Frozen            440 non-null    int64\n",
      " 6   Detergents_Paper  440 non-null    int64\n",
      " 7   Delicassen        440 non-null    int64\n",
      "dtypes: int64(8)\n",
      "memory usage: 27.6 KB\n"
     ]
    }
   ],
   "source": [
    "df.info()"
   ]
  },
  {
   "cell_type": "code",
   "execution_count": 4,
   "id": "c7d8306c",
   "metadata": {},
   "outputs": [],
   "source": [
    "data = df.to_numpy()"
   ]
  },
  {
   "cell_type": "code",
   "execution_count": 5,
   "id": "3f5778bc",
   "metadata": {},
   "outputs": [],
   "source": [
    "def shifted(data):\n",
    "    # subtract each feature vector from its mean\n",
    "    shifted_data = data - np.mean(data,axis=0)\n",
    "    return shifted_data"
   ]
  },
  {
   "cell_type": "markdown",
   "id": "d575b225",
   "metadata": {},
   "source": [
    "## Covariance Matrix"
   ]
  },
  {
   "cell_type": "code",
   "execution_count": 6,
   "id": "4734ff21",
   "metadata": {},
   "outputs": [],
   "source": [
    "def calculate_cov(data):\n",
    "    num_samples = data.shape[1] \n",
    "    cov = (data @ data.T)/num_samples\n",
    "    return cov"
   ]
  },
  {
   "cell_type": "code",
   "execution_count": 7,
   "id": "1c5cfbf7",
   "metadata": {},
   "outputs": [
    {
     "data": {
      "text/plain": [
       "array([[ 6.77272727e-01,  6.77272727e-01,  6.77272727e-01, ...,\n",
       "         6.77272727e-01, -3.22727273e-01, -3.22727273e-01],\n",
       "       [ 4.56818182e-01,  4.56818182e-01,  4.56818182e-01, ...,\n",
       "         4.56818182e-01,  4.56818182e-01,  4.56818182e-01],\n",
       "       [ 6.68702273e+02, -4.94329773e+03, -5.64729773e+03, ...,\n",
       "         2.53070227e+03, -1.71029773e+03, -9.21329773e+03],\n",
       "       ...,\n",
       "       [-2.85793182e+03, -1.30993182e+03, -6.66931818e+02, ...,\n",
       "        -2.63493182e+03, -2.03393182e+03, -3.00693182e+03],\n",
       "       [-2.07493182e+02,  4.11506818e+02,  6.34506818e+02, ...,\n",
       "         1.19595068e+04, -2.71349318e+03, -2.40449318e+03],\n",
       "       [-1.86870455e+02,  2.51129545e+02,  6.31912955e+03, ...,\n",
       "         3.42129545e+02,  6.00129545e+02, -1.47287045e+03]])"
      ]
     },
     "execution_count": 7,
     "metadata": {},
     "output_type": "execute_result"
    }
   ],
   "source": [
    "standardized_data = shifted(data).T\n",
    "standardized_data"
   ]
  },
  {
   "cell_type": "code",
   "execution_count": 8,
   "id": "8c114de9",
   "metadata": {
    "scrolled": true
   },
   "outputs": [
    {
     "data": {
      "text/plain": [
       "array([[ 2.18574380e-01,  2.24276860e-02, -9.99155176e+02,\n",
       "         1.58789373e+03,  2.70173552e+03, -4.58052996e+02,\n",
       "         1.41613175e+03,  7.37645351e+01],\n",
       "       [ 2.24276860e-02,  5.98135331e-01,  5.40165553e+02,\n",
       "         1.84085108e+02,  5.64971178e+01, -7.89220558e+01,\n",
       "        -5.46106921e+00,  9.84976395e+01],\n",
       "       [-9.99155176e+02,  5.40165553e+02,  1.59591393e+08,\n",
       "         9.36046630e+06, -1.42147481e+06,  2.11883895e+07,\n",
       "        -6.13385338e+06,  8.70747517e+06],\n",
       "       [ 1.58789373e+03,  1.84085108e+02,  9.36046630e+06,\n",
       "         5.43461719e+07,  5.09670882e+07,  4.43251525e+06,\n",
       "         2.32354154e+07,  8.43870224e+06],\n",
       "       [ 2.70173552e+03,  5.64971178e+01, -1.42147481e+06,\n",
       "         5.09670882e+07,  9.01048535e+07, -1.85006764e+06,\n",
       "         4.17999733e+07,  5.49477470e+06],\n",
       "       [-4.58052996e+02, -7.89220558e+01,  2.11883895e+07,\n",
       "         4.43251525e+06, -1.85006764e+06,  2.35142899e+07,\n",
       "        -3.03740599e+06,  5.34017735e+06],\n",
       "       [ 1.41613175e+03, -5.46106921e+00, -6.13385338e+06,\n",
       "         2.32354154e+07,  4.17999733e+07, -3.03740599e+06,\n",
       "         2.26807714e+07,  9.29563257e+05],\n",
       "       [ 7.37645351e+01,  9.84976395e+01,  8.70747517e+06,\n",
       "         8.43870224e+06,  5.49477470e+06,  5.34017735e+06,\n",
       "         9.29563257e+05,  7.93492250e+06]])"
      ]
     },
     "execution_count": 8,
     "metadata": {},
     "output_type": "execute_result"
    }
   ],
   "source": [
    "cov = calculate_cov(standardized_data)\n",
    "cov"
   ]
  },
  {
   "cell_type": "markdown",
   "id": "93f73974",
   "metadata": {},
   "source": [
    "## Calculate the Eigenvalues & Eigenvectors"
   ]
  },
  {
   "cell_type": "code",
   "execution_count": 9,
   "id": "3e7c917a",
   "metadata": {},
   "outputs": [],
   "source": [
    "def eigen(cov):\n",
    "    eigen_values , eigen_vectors = np.linalg.eig(cov)\n",
    "    # sort the eigenvectors and eigenvalues descending in terms of the eigenvalues\n",
    "    sorted_index = np.argsort(eigen_values)[::-1]\n",
    "    sorted_eigenvalues = eigen_values[sorted_index]\n",
    "    sorted_eigenvectors = eigen_vectors[:,sorted_index]\n",
    "    \n",
    "    return sorted_eigenvalues,sorted_eigenvectors"
   ]
  },
  {
   "cell_type": "markdown",
   "id": "740d9630",
   "metadata": {},
   "source": [
    "## PCA"
   ]
  },
  {
   "cell_type": "code",
   "execution_count": 10,
   "id": "9d9c941e",
   "metadata": {},
   "outputs": [],
   "source": [
    "def pca(data,k,eigenvectors):\n",
    "    top_eigenvectors = eigenvectors[:,:k]\n",
    "    F = np.dot(top_eigenvectors.T,data)\n",
    "    return F, top_eigenvectors"
   ]
  },
  {
   "cell_type": "code",
   "execution_count": 11,
   "id": "0d32c959",
   "metadata": {},
   "outputs": [],
   "source": [
    "def calculate_error(F,top_eigenvectors,data):\n",
    "    \n",
    "    F_inverse = np.dot(top_eigenvectors,F) + np.mean(data,axis=0).reshape(-1,1)\n",
    "    \n",
    "    error = np.mean((data.T-F_inverse)**2)\n",
    "    \n",
    "    return error,F_inverse.T"
   ]
  },
  {
   "cell_type": "code",
   "execution_count": 12,
   "id": "3a633e64",
   "metadata": {},
   "outputs": [
    {
     "name": "stdout",
     "output_type": "stream",
     "text": [
      "eigenvalues: [1.64620913e+08 1.45121525e+08 2.50828422e+07 1.57679825e+07\n",
      " 5.38050736e+06 2.19863238e+06 5.94275972e-01 1.21777800e-01]\n",
      "eigenvectors:\n",
      "[[-4.20223371e-06  2.42933998e-05 -1.40636434e-05 -3.48624788e-06\n",
      "   6.86267242e-08  3.10033196e-05  4.54785678e-02  9.98965314e-01]\n",
      " [ 3.32885015e-06  5.75410266e-07 -1.81488052e-06 -1.10408563e-05\n",
      "   1.33539849e-05 -2.41744091e-07  9.98965314e-01 -4.54785679e-02]\n",
      " [ 9.76536846e-01 -1.10613856e-01 -1.78557260e-01 -4.18764803e-02\n",
      "  -1.59859967e-02  1.57631603e-02 -3.58651763e-06  3.81310708e-06]\n",
      " [ 1.21184070e-01  5.15802159e-01  5.09886754e-01 -6.45640468e-01\n",
      "  -2.03235658e-01 -3.34918735e-02 -4.46809064e-06 -5.85188736e-06]\n",
      " [ 6.15403925e-02  7.64606385e-01 -2.75780885e-01  3.75460488e-01\n",
      "   1.60291504e-01 -4.10938945e-01  3.88476930e-07 -8.18247967e-06]\n",
      " [ 1.52364619e-01 -1.87234545e-02  7.14200374e-01  6.46292316e-01\n",
      "  -2.20186117e-01  1.32889796e-02  1.14587246e-05  1.24874250e-05]\n",
      " [-7.05417374e-03  3.65350762e-01 -2.04409871e-01  1.49380125e-01\n",
      "  -2.07930164e-01  8.71284275e-01  2.33476077e-06 -3.84035793e-05]\n",
      " [ 6.81047102e-02  5.70792132e-02  2.83217475e-01 -2.03957876e-02\n",
      "   9.17076589e-01  2.65416871e-01 -1.23898578e-05 -4.92185108e-06]]\n"
     ]
    }
   ],
   "source": [
    "eigenvalues, eigenvectors = eigen(cov)\n",
    "print(f\"eigenvalues: {eigenvalues}\")\n",
    "print(f\"eigenvectors:\\n{eigenvectors}\")"
   ]
  },
  {
   "cell_type": "code",
   "execution_count": 13,
   "id": "0a064bdc",
   "metadata": {},
   "outputs": [
    {
     "name": "stdout",
     "output_type": "stream",
     "text": [
      "Error for 8: 8.164908929736995e-23\n",
      "Error for 7: 0.015222225238855192\n",
      "Error for 6: 0.08950672197130735\n",
      "Error for 5: 274829.1367156728\n",
      "Error for 4: 947392.5572440795\n",
      "Error for 3: 2918390.375563545\n",
      "Error for 2: 6053745.648714563\n",
      "Error for 1: 24193936.25458759\n"
     ]
    }
   ],
   "source": [
    "for k in range(8,0,-1):\n",
    "    data_reduced, top_eigenvectors = pca(standardized_data,k,eigenvectors)\n",
    "    error, inverse = calculate_error(data_reduced,top_eigenvectors,data)\n",
    "    print(f\"Error for {k}: {error}\")\n",
    "#     print(f\"Top eigenvectors:\\n {top_eigenvectors}\")\n",
    "#     print(f\"Data:\\n {data_reduced}\")\n",
    "    # print(f\"Inverse:\\n{inverse}\")"
   ]
  },
  {
   "cell_type": "markdown",
   "id": "77b11e6a",
   "metadata": {},
   "source": [
    "- Since the data has 8 features, so we have __8 Q Matrices__\n",
    "- After using __MSE__ to compare between the original data and the inverse of the reduced data for each Q Matrix:\n",
    "    - The best result that doesn't change the original feature vectors too much and at the same time reduce the dimensionality is  __6__"
   ]
  },
  {
   "cell_type": "code",
   "execution_count": null,
   "id": "55fdaf53",
   "metadata": {},
   "outputs": [],
   "source": []
  }
 ],
 "metadata": {
  "kernelspec": {
   "display_name": "Python 3 (ipykernel)",
   "language": "python",
   "name": "python3"
  },
  "language_info": {
   "codemirror_mode": {
    "name": "ipython",
    "version": 3
   },
   "file_extension": ".py",
   "mimetype": "text/x-python",
   "name": "python",
   "nbconvert_exporter": "python",
   "pygments_lexer": "ipython3",
   "version": "3.9.12"
  }
 },
 "nbformat": 4,
 "nbformat_minor": 5
}
