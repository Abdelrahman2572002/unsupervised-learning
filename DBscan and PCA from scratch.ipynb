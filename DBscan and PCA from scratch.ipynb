{
 "cells": [
  {
   "cell_type": "code",
   "execution_count": 25,
   "id": "343c2396",
   "metadata": {},
   "outputs": [],
   "source": [
    "import numpy as np\n",
    "import pandas as pd\n",
    "import matplotlib.pyplot as plt\n",
    "import seaborn as sns"
   ]
  },
  {
   "cell_type": "markdown",
   "id": "ce723c05",
   "metadata": {},
   "source": [
    "## Loading the Data"
   ]
  },
  {
   "cell_type": "code",
   "execution_count": 2,
   "id": "21ed08a0",
   "metadata": {},
   "outputs": [
    {
     "name": "stderr",
     "output_type": "stream",
     "text": [
      "C:\\ProgramData\\Anaconda3\\lib\\site-packages\\scipy\\__init__.py:146: UserWarning: A NumPy version >=1.16.5 and <1.23.0 is required for this version of SciPy (detected version 1.24.3\n",
      "  warnings.warn(f\"A NumPy version >={np_minversion} and <{np_maxversion}\"\n"
     ]
    }
   ],
   "source": [
    "from sklearn import datasets\n",
    "\n",
    "iris = datasets.load_iris()"
   ]
  },
  {
   "cell_type": "code",
   "execution_count": 3,
   "id": "a61dadf0",
   "metadata": {},
   "outputs": [
    {
     "data": {
      "text/plain": [
       "array([[5.1, 3.5, 1.4, 0.2],\n",
       "       [4.9, 3. , 1.4, 0.2],\n",
       "       [4.7, 3.2, 1.3, 0.2],\n",
       "       [4.6, 3.1, 1.5, 0.2],\n",
       "       [5. , 3.6, 1.4, 0.2],\n",
       "       [5.4, 3.9, 1.7, 0.4],\n",
       "       [4.6, 3.4, 1.4, 0.3],\n",
       "       [5. , 3.4, 1.5, 0.2],\n",
       "       [4.4, 2.9, 1.4, 0.2],\n",
       "       [4.9, 3.1, 1.5, 0.1],\n",
       "       [5.4, 3.7, 1.5, 0.2],\n",
       "       [4.8, 3.4, 1.6, 0.2],\n",
       "       [4.8, 3. , 1.4, 0.1],\n",
       "       [4.3, 3. , 1.1, 0.1],\n",
       "       [5.8, 4. , 1.2, 0.2],\n",
       "       [5.7, 4.4, 1.5, 0.4],\n",
       "       [5.4, 3.9, 1.3, 0.4],\n",
       "       [5.1, 3.5, 1.4, 0.3],\n",
       "       [5.7, 3.8, 1.7, 0.3],\n",
       "       [5.1, 3.8, 1.5, 0.3],\n",
       "       [5.4, 3.4, 1.7, 0.2],\n",
       "       [5.1, 3.7, 1.5, 0.4],\n",
       "       [4.6, 3.6, 1. , 0.2],\n",
       "       [5.1, 3.3, 1.7, 0.5],\n",
       "       [4.8, 3.4, 1.9, 0.2],\n",
       "       [5. , 3. , 1.6, 0.2],\n",
       "       [5. , 3.4, 1.6, 0.4],\n",
       "       [5.2, 3.5, 1.5, 0.2],\n",
       "       [5.2, 3.4, 1.4, 0.2],\n",
       "       [4.7, 3.2, 1.6, 0.2],\n",
       "       [4.8, 3.1, 1.6, 0.2],\n",
       "       [5.4, 3.4, 1.5, 0.4],\n",
       "       [5.2, 4.1, 1.5, 0.1],\n",
       "       [5.5, 4.2, 1.4, 0.2],\n",
       "       [4.9, 3.1, 1.5, 0.2],\n",
       "       [5. , 3.2, 1.2, 0.2],\n",
       "       [5.5, 3.5, 1.3, 0.2],\n",
       "       [4.9, 3.6, 1.4, 0.1],\n",
       "       [4.4, 3. , 1.3, 0.2],\n",
       "       [5.1, 3.4, 1.5, 0.2],\n",
       "       [5. , 3.5, 1.3, 0.3],\n",
       "       [4.5, 2.3, 1.3, 0.3],\n",
       "       [4.4, 3.2, 1.3, 0.2],\n",
       "       [5. , 3.5, 1.6, 0.6],\n",
       "       [5.1, 3.8, 1.9, 0.4],\n",
       "       [4.8, 3. , 1.4, 0.3],\n",
       "       [5.1, 3.8, 1.6, 0.2],\n",
       "       [4.6, 3.2, 1.4, 0.2],\n",
       "       [5.3, 3.7, 1.5, 0.2],\n",
       "       [5. , 3.3, 1.4, 0.2],\n",
       "       [7. , 3.2, 4.7, 1.4],\n",
       "       [6.4, 3.2, 4.5, 1.5],\n",
       "       [6.9, 3.1, 4.9, 1.5],\n",
       "       [5.5, 2.3, 4. , 1.3],\n",
       "       [6.5, 2.8, 4.6, 1.5],\n",
       "       [5.7, 2.8, 4.5, 1.3],\n",
       "       [6.3, 3.3, 4.7, 1.6],\n",
       "       [4.9, 2.4, 3.3, 1. ],\n",
       "       [6.6, 2.9, 4.6, 1.3],\n",
       "       [5.2, 2.7, 3.9, 1.4],\n",
       "       [5. , 2. , 3.5, 1. ],\n",
       "       [5.9, 3. , 4.2, 1.5],\n",
       "       [6. , 2.2, 4. , 1. ],\n",
       "       [6.1, 2.9, 4.7, 1.4],\n",
       "       [5.6, 2.9, 3.6, 1.3],\n",
       "       [6.7, 3.1, 4.4, 1.4],\n",
       "       [5.6, 3. , 4.5, 1.5],\n",
       "       [5.8, 2.7, 4.1, 1. ],\n",
       "       [6.2, 2.2, 4.5, 1.5],\n",
       "       [5.6, 2.5, 3.9, 1.1],\n",
       "       [5.9, 3.2, 4.8, 1.8],\n",
       "       [6.1, 2.8, 4. , 1.3],\n",
       "       [6.3, 2.5, 4.9, 1.5],\n",
       "       [6.1, 2.8, 4.7, 1.2],\n",
       "       [6.4, 2.9, 4.3, 1.3],\n",
       "       [6.6, 3. , 4.4, 1.4],\n",
       "       [6.8, 2.8, 4.8, 1.4],\n",
       "       [6.7, 3. , 5. , 1.7],\n",
       "       [6. , 2.9, 4.5, 1.5],\n",
       "       [5.7, 2.6, 3.5, 1. ],\n",
       "       [5.5, 2.4, 3.8, 1.1],\n",
       "       [5.5, 2.4, 3.7, 1. ],\n",
       "       [5.8, 2.7, 3.9, 1.2],\n",
       "       [6. , 2.7, 5.1, 1.6],\n",
       "       [5.4, 3. , 4.5, 1.5],\n",
       "       [6. , 3.4, 4.5, 1.6],\n",
       "       [6.7, 3.1, 4.7, 1.5],\n",
       "       [6.3, 2.3, 4.4, 1.3],\n",
       "       [5.6, 3. , 4.1, 1.3],\n",
       "       [5.5, 2.5, 4. , 1.3],\n",
       "       [5.5, 2.6, 4.4, 1.2],\n",
       "       [6.1, 3. , 4.6, 1.4],\n",
       "       [5.8, 2.6, 4. , 1.2],\n",
       "       [5. , 2.3, 3.3, 1. ],\n",
       "       [5.6, 2.7, 4.2, 1.3],\n",
       "       [5.7, 3. , 4.2, 1.2],\n",
       "       [5.7, 2.9, 4.2, 1.3],\n",
       "       [6.2, 2.9, 4.3, 1.3],\n",
       "       [5.1, 2.5, 3. , 1.1],\n",
       "       [5.7, 2.8, 4.1, 1.3],\n",
       "       [6.3, 3.3, 6. , 2.5],\n",
       "       [5.8, 2.7, 5.1, 1.9],\n",
       "       [7.1, 3. , 5.9, 2.1],\n",
       "       [6.3, 2.9, 5.6, 1.8],\n",
       "       [6.5, 3. , 5.8, 2.2],\n",
       "       [7.6, 3. , 6.6, 2.1],\n",
       "       [4.9, 2.5, 4.5, 1.7],\n",
       "       [7.3, 2.9, 6.3, 1.8],\n",
       "       [6.7, 2.5, 5.8, 1.8],\n",
       "       [7.2, 3.6, 6.1, 2.5],\n",
       "       [6.5, 3.2, 5.1, 2. ],\n",
       "       [6.4, 2.7, 5.3, 1.9],\n",
       "       [6.8, 3. , 5.5, 2.1],\n",
       "       [5.7, 2.5, 5. , 2. ],\n",
       "       [5.8, 2.8, 5.1, 2.4],\n",
       "       [6.4, 3.2, 5.3, 2.3],\n",
       "       [6.5, 3. , 5.5, 1.8],\n",
       "       [7.7, 3.8, 6.7, 2.2],\n",
       "       [7.7, 2.6, 6.9, 2.3],\n",
       "       [6. , 2.2, 5. , 1.5],\n",
       "       [6.9, 3.2, 5.7, 2.3],\n",
       "       [5.6, 2.8, 4.9, 2. ],\n",
       "       [7.7, 2.8, 6.7, 2. ],\n",
       "       [6.3, 2.7, 4.9, 1.8],\n",
       "       [6.7, 3.3, 5.7, 2.1],\n",
       "       [7.2, 3.2, 6. , 1.8],\n",
       "       [6.2, 2.8, 4.8, 1.8],\n",
       "       [6.1, 3. , 4.9, 1.8],\n",
       "       [6.4, 2.8, 5.6, 2.1],\n",
       "       [7.2, 3. , 5.8, 1.6],\n",
       "       [7.4, 2.8, 6.1, 1.9],\n",
       "       [7.9, 3.8, 6.4, 2. ],\n",
       "       [6.4, 2.8, 5.6, 2.2],\n",
       "       [6.3, 2.8, 5.1, 1.5],\n",
       "       [6.1, 2.6, 5.6, 1.4],\n",
       "       [7.7, 3. , 6.1, 2.3],\n",
       "       [6.3, 3.4, 5.6, 2.4],\n",
       "       [6.4, 3.1, 5.5, 1.8],\n",
       "       [6. , 3. , 4.8, 1.8],\n",
       "       [6.9, 3.1, 5.4, 2.1],\n",
       "       [6.7, 3.1, 5.6, 2.4],\n",
       "       [6.9, 3.1, 5.1, 2.3],\n",
       "       [5.8, 2.7, 5.1, 1.9],\n",
       "       [6.8, 3.2, 5.9, 2.3],\n",
       "       [6.7, 3.3, 5.7, 2.5],\n",
       "       [6.7, 3. , 5.2, 2.3],\n",
       "       [6.3, 2.5, 5. , 1.9],\n",
       "       [6.5, 3. , 5.2, 2. ],\n",
       "       [6.2, 3.4, 5.4, 2.3],\n",
       "       [5.9, 3. , 5.1, 1.8]])"
      ]
     },
     "execution_count": 3,
     "metadata": {},
     "output_type": "execute_result"
    }
   ],
   "source": [
    "data = iris.data\n",
    "data"
   ]
  },
  {
   "cell_type": "code",
   "execution_count": 4,
   "id": "40a1a7c7",
   "metadata": {},
   "outputs": [],
   "source": [
    "features_names = np.array([\"Sepal Length\", \"Sepal Width\", \"Petal Length\", \"Petal Width\"])"
   ]
  },
  {
   "cell_type": "markdown",
   "id": "b9ba3408",
   "metadata": {},
   "source": [
    "## Covariance Matrix"
   ]
  },
  {
   "cell_type": "code",
   "execution_count": 5,
   "id": "43a7efec",
   "metadata": {},
   "outputs": [],
   "source": [
    "def shifted(data):\n",
    "    # subtract each feature vector from its mean\n",
    "    shifted_data = data - np.mean(data,axis=0)\n",
    "    return shifted_data"
   ]
  },
  {
   "cell_type": "code",
   "execution_count": 6,
   "id": "b03a0664",
   "metadata": {},
   "outputs": [],
   "source": [
    "def calculate_cov(data):\n",
    "    num_samples = data.shape[1] \n",
    "    cov = (data @ data.T)/num_samples\n",
    "    return cov"
   ]
  },
  {
   "cell_type": "code",
   "execution_count": 7,
   "id": "7dbe95da",
   "metadata": {},
   "outputs": [],
   "source": [
    "shifted_data = shifted(data).T\n",
    "cov = calculate_cov(shifted_data)"
   ]
  },
  {
   "cell_type": "markdown",
   "id": "59120110",
   "metadata": {},
   "source": [
    "## Calculate the Eigenvalues & Eigenvectors"
   ]
  },
  {
   "cell_type": "code",
   "execution_count": 8,
   "id": "99bb4edd",
   "metadata": {},
   "outputs": [],
   "source": [
    "def eigen(cov,features_names):\n",
    "    eigen_values , eigen_vectors = np.linalg.eig(cov)\n",
    "    # sort the eigenvectors and eigenvalues descending in terms of the eigenvalues\n",
    "    sorted_index = np.argsort(eigen_values)[::-1]\n",
    "    sorted_features = features_names[sorted_index]\n",
    "    sorted_eigenvalues = eigen_values[sorted_index]\n",
    "    sorted_eigenvectors = eigen_vectors[:,sorted_index]\n",
    "    \n",
    "    return sorted_eigenvalues,sorted_eigenvectors,sorted_features"
   ]
  },
  {
   "cell_type": "code",
   "execution_count": 9,
   "id": "412bf5d0",
   "metadata": {},
   "outputs": [
    {
     "name": "stdout",
     "output_type": "stream",
     "text": [
      "Sorted Features: ['Sepal Length' 'Sepal Width' 'Petal Length' 'Petal Width']\n",
      "eigenvalues: [4.20005343 0.24105294 0.0776881  0.02367619]\n",
      "eigenvectors:\n",
      "[[ 0.36138659 -0.65658877 -0.58202985  0.31548719]\n",
      " [-0.08452251 -0.73016143  0.59791083 -0.3197231 ]\n",
      " [ 0.85667061  0.17337266  0.07623608 -0.47983899]\n",
      " [ 0.3582892   0.07548102  0.54583143  0.75365743]]\n"
     ]
    }
   ],
   "source": [
    "eigenvalues, eigenvectors, sorted_features = eigen(cov,features_names)\n",
    "print(f\"Sorted Features: {sorted_features}\")\n",
    "print(f\"eigenvalues: {eigenvalues}\")\n",
    "print(f\"eigenvectors:\\n{eigenvectors}\")"
   ]
  },
  {
   "cell_type": "markdown",
   "id": "af5be213",
   "metadata": {},
   "source": [
    "## PCA"
   ]
  },
  {
   "cell_type": "code",
   "execution_count": 10,
   "id": "36153a80",
   "metadata": {},
   "outputs": [],
   "source": [
    "def pca(data,k,eigenvectors):\n",
    "    top_eigenvectors = eigenvectors[:,:k]\n",
    "    F = np.dot(top_eigenvectors.T,data)\n",
    "    return F, top_eigenvectors"
   ]
  },
  {
   "cell_type": "code",
   "execution_count": 11,
   "id": "293b2e27",
   "metadata": {},
   "outputs": [],
   "source": [
    "def calculate_error(F,top_eigenvectors,data):\n",
    "    \n",
    "    F_inverse = np.dot(top_eigenvectors,F) + np.mean(data,axis=0).reshape(-1,1)\n",
    "    \n",
    "    error = np.mean((data.T-F_inverse)**2)\n",
    "    \n",
    "    return error,F_inverse.T"
   ]
  },
  {
   "cell_type": "code",
   "execution_count": 13,
   "id": "c166a746",
   "metadata": {},
   "outputs": [
    {
     "name": "stdout",
     "output_type": "stream",
     "text": [
      "4 number of components Error: 0.00\n",
      "3 number of components Error: 0.01\n",
      "2 number of components Error: 0.03\n",
      "1 number of components Error: 0.09\n"
     ]
    }
   ],
   "source": [
    "for k in range(4,0,-1):\n",
    "    data_reduced, top_eigenvectors = pca(shifted_data,k,eigenvectors)\n",
    "    error, inverse = calculate_error(data_reduced,top_eigenvectors,data)\n",
    "    print(f\"{k} number of components Error: {error:0.2f}\")"
   ]
  },
  {
   "cell_type": "markdown",
   "id": "41cf8ba7",
   "metadata": {},
   "source": [
    "- Since the data has 4 features, so we have __4 Q Matrices__\n",
    "- After using __MSE__ to compare between the original data and the inverse of the reduced data for each Q Matrix:\n",
    "    - The best result that doesn't change the original feature vectors too much and at the same time reduce the dimensionality is  __1__"
   ]
  },
  {
   "cell_type": "code",
   "execution_count": 14,
   "id": "d2dc4ae7",
   "metadata": {},
   "outputs": [
    {
     "name": "stdout",
     "output_type": "stream",
     "text": [
      "1 number of components Error: 0.09\n"
     ]
    }
   ],
   "source": [
    "k = 1\n",
    "data_reduced, top_eigenvectors = pca(shifted_data,k,eigenvectors)\n",
    "error, inverse = calculate_error(data_reduced,top_eigenvectors,data)\n",
    "print(f\"{k} number of components Error: {error:0.2f}\")"
   ]
  },
  {
   "cell_type": "markdown",
   "id": "78e87225",
   "metadata": {},
   "source": [
    "## DBSCAN"
   ]
  },
  {
   "cell_type": "code",
   "execution_count": 15,
   "id": "2c78e9f7",
   "metadata": {},
   "outputs": [],
   "source": [
    "def euclidean_distance(point1, point2):\n",
    "\n",
    "    return np.sqrt(np.sum((point1 - point2) ** 2))"
   ]
  },
  {
   "cell_type": "code",
   "execution_count": 16,
   "id": "cc6b5d6a",
   "metadata": {},
   "outputs": [],
   "source": [
    "def range_query(data, point, epsilon):\n",
    "\n",
    "    neighbors = []\n",
    "    for i, data_point in enumerate(data):\n",
    "        if euclidean_distance(point, data_point) <= epsilon:\n",
    "            neighbors.append(i)\n",
    "    return neighbors"
   ]
  },
  {
   "cell_type": "code",
   "execution_count": 17,
   "id": "8c818c34",
   "metadata": {},
   "outputs": [],
   "source": [
    "def dbscan(data, epsilon, min_points):\n",
    "\n",
    "    labels = np.full(len(data), -1, dtype=int)\n",
    "\n",
    "    cluster_id = 0\n",
    "\n",
    "    for i in range(len(data)):\n",
    "\n",
    "        if labels[i] != -1:\n",
    "            continue\n",
    "\n",
    "        # Find neighbors of the current point\n",
    "        neighbors = range_query(data, data[i], epsilon)\n",
    "\n",
    "        # If the number of neighbors is less than min_points, mark the point as noise\n",
    "        if len(neighbors) < min_points:\n",
    "            labels[i] = -1  # Noise point\n",
    "        else:\n",
    "            # Expand the cluster starting from the current point\n",
    "            cluster_id += 1\n",
    "            expand_cluster(data, labels, i, neighbors, cluster_id, epsilon, min_points)\n",
    "\n",
    "    return labels"
   ]
  },
  {
   "cell_type": "code",
   "execution_count": 18,
   "id": "f730cd0e",
   "metadata": {},
   "outputs": [],
   "source": [
    "def expand_cluster(data, labels, current_point, neighbors, cluster_id, epsilon, min_points):\n",
    "    labels[current_point] = cluster_id\n",
    "    queue = neighbors.copy()\n",
    "\n",
    "    while queue:\n",
    "        current_neighbor = queue.pop(0)\n",
    "\n",
    "        if labels[current_neighbor] == -1:\n",
    "            labels[current_neighbor] = cluster_id\n",
    "            new_neighbors = range_query(data, data[current_neighbor], epsilon)\n",
    "            if len(new_neighbors) >= min_points:\n",
    "                queue.extend(new_neighbors)\n",
    "\n",
    "        elif labels[current_neighbor] == 0:\n",
    "            labels[current_neighbor] = cluster_id"
   ]
  },
  {
   "cell_type": "markdown",
   "id": "614c14e2",
   "metadata": {},
   "source": [
    "## Before PCA"
   ]
  },
  {
   "cell_type": "code",
   "execution_count": 19,
   "id": "7dd3d28d",
   "metadata": {},
   "outputs": [],
   "source": [
    "# Using k-distance plot to determine the optimal value of epsilon\n",
    "from sklearn.neighbors import NearestNeighbors\n",
    "\n",
    "from matplotlib import pyplot as plt\n",
    " \n",
    "neighbors = NearestNeighbors(n_neighbors = 8)\n",
    "neighbors_fit = neighbors.fit(shifted_data.T)\n",
    "distances, indices = neighbors_fit.kneighbors(shifted_data.T)"
   ]
  },
  {
   "cell_type": "code",
   "execution_count": 20,
   "id": "c1bf54ac",
   "metadata": {},
   "outputs": [
    {
     "data": {
      "text/plain": [
       "[<matplotlib.lines.Line2D at 0x1bec552bfd0>]"
      ]
     },
     "execution_count": 20,
     "metadata": {},
     "output_type": "execute_result"
    },
    {
     "data": {
      "image/png": "[encoded data removed]",
      "text/plain": [
       "<Figure size 432x288 with 1 Axes>"
      ]
     },
     "metadata": {
      "needs_background": "light"
     },
     "output_type": "display_data"
    }
   ],
   "source": [
    "distances = np.sort(distances, axis=0)\n",
    "distances = distances[:,1]\n",
    "plt.plot(distances)"
   ]
  },
  {
   "cell_type": "code",
   "execution_count": 21,
   "id": "5e7f391a",
   "metadata": {},
   "outputs": [
    {
     "data": {
      "text/plain": [
       "(5, 5)"
      ]
     },
     "execution_count": 21,
     "metadata": {},
     "output_type": "execute_result"
    }
   ],
   "source": [
    "eps_values = np.arange(0.25, 0.5, 0.05)\n",
    "minPts_values = np.arange(4,9)\n",
    "len(eps_values), len(minPts_values)"
   ]
  },
  {
   "cell_type": "code",
   "execution_count": 22,
   "id": "aeb777e0",
   "metadata": {},
   "outputs": [],
   "source": [
    "from itertools import product\n",
    "params = list(product(eps_values, minPts_values))"
   ]
  },
  {
   "cell_type": "code",
   "execution_count": 23,
   "id": "1c2c36d6",
   "metadata": {},
   "outputs": [],
   "source": [
    "from sklearn.metrics import silhouette_score\n",
    "sil_score = []\n",
    "for p in params:\n",
    "    cluster_labels = dbscan(shifted_data.T, p[0], p[1])\n",
    "    if len(set(cluster_labels)) > 1:\n",
    "        sil_score.append(silhouette_score(shifted_data.T, cluster_labels))\n",
    "    else:\n",
    "        sil_score.append(np.nan)"
   ]
  },
  {
   "cell_type": "code",
   "execution_count": 26,
   "id": "03b9a65d",
   "metadata": {},
   "outputs": [
    {
     "data": {
      "image/png": "[encoded data removed]",
      "text/plain": [
       "<Figure size 864x576 with 2 Axes>"
      ]
     },
     "metadata": {
      "needs_background": "light"
     },
     "output_type": "display_data"
    }
   ],
   "source": [
    "# Create a DataFrame to store the results\n",
    "df = pd.DataFrame({'Epsilon': [p[0] for p in params],\n",
    "                   'MinPts': [p[1] for p in params],\n",
    "                   'Silhouette Score': sil_score})\n",
    "\n",
    "# Create a pivot table for the heatmap\n",
    "pivot_df = df.pivot('Epsilon', 'MinPts', 'Silhouette Score')\n",
    "\n",
    "# Create a heatmap using seaborn\n",
    "plt.figure(figsize=(12, 8))\n",
    "sns.heatmap(pivot_df, annot=True, fmt=\".3f\", cmap=\"YlGnBu\")\n",
    "plt.title('Silhouette Score Heatmap for DBSCAN Parameters')\n",
    "plt.show()"
   ]
  },
  {
   "cell_type": "code",
   "execution_count": 27,
   "id": "9891f88e",
   "metadata": {},
   "outputs": [
    {
     "data": {
      "text/plain": [
       "array([ 1,  1,  1,  1,  1,  1,  1,  1,  1,  1,  1,  1,  1,  1,  1,  1,  1,\n",
       "        1,  1,  1,  1,  1,  1,  1,  1,  1,  1,  1,  1,  1,  1,  1,  1,  1,\n",
       "        1,  1,  1,  1,  1,  1,  1, -1,  1,  1,  1,  1,  1,  1,  1,  1,  2,\n",
       "        2,  2,  2,  2,  2,  2, -1,  2,  2, -1,  2,  2,  2,  2,  2,  2,  2,\n",
       "       -1,  2,  2,  2,  2,  2,  2,  2,  2,  2,  2,  2,  2,  2,  2,  2,  2,\n",
       "        2,  2, -1,  2,  2,  2,  2,  2, -1,  2,  2,  2,  2, -1,  2,  2,  2,\n",
       "        2,  2,  2, -1, -1,  2, -1, -1,  2,  2,  2,  2,  2,  2,  2, -1, -1,\n",
       "        2,  2,  2, -1,  2,  2,  2,  2,  2,  2,  2,  2, -1,  2,  2, -1, -1,\n",
       "        2,  2,  2,  2,  2,  2,  2,  2,  2,  2,  2,  2,  2,  2])"
      ]
     },
     "execution_count": 27,
     "metadata": {},
     "output_type": "execute_result"
    }
   ],
   "source": [
    "cluster_labels = dbscan(shifted_data.T, 0.5,5)\n",
    "cluster_labels"
   ]
  },
  {
   "cell_type": "code",
   "execution_count": 28,
   "id": "4186355e",
   "metadata": {},
   "outputs": [
    {
     "data": {
      "text/plain": [
       "17"
      ]
     },
     "execution_count": 28,
     "metadata": {},
     "output_type": "execute_result"
    }
   ],
   "source": [
    "sum(cluster_labels==-1)"
   ]
  },
  {
   "cell_type": "code",
   "execution_count": 30,
   "id": "c1ed49be",
   "metadata": {},
   "outputs": [
    {
     "name": "stdout",
     "output_type": "stream",
     "text": [
      "Cluster 1: 49\n",
      "Cluster 2: 84\n",
      "Cluster -1: 17\n"
     ]
    }
   ],
   "source": [
    "for num in clus_num:\n",
    "    print(f\"Cluster {num}: {sum(cluster_labels==num)}\")"
   ]
  },
  {
   "cell_type": "markdown",
   "id": "090fcdee",
   "metadata": {},
   "source": [
    "## After PCA"
   ]
  },
  {
   "cell_type": "code",
   "execution_count": 31,
   "id": "e66fa9ab",
   "metadata": {},
   "outputs": [],
   "source": [
    "cluster_labels = dbscan(data_reduced.T, 0.5,5)"
   ]
  },
  {
   "cell_type": "code",
   "execution_count": 32,
   "id": "13d5e4ec",
   "metadata": {},
   "outputs": [
    {
     "data": {
      "text/plain": [
       "0.7642453332157214"
      ]
     },
     "execution_count": 32,
     "metadata": {},
     "output_type": "execute_result"
    }
   ],
   "source": [
    "silhouette_score(data_reduced.T, cluster_labels)"
   ]
  },
  {
   "cell_type": "code",
   "execution_count": 33,
   "id": "b9cdd8fb",
   "metadata": {},
   "outputs": [
    {
     "data": {
      "text/plain": [
       "array([1, 1, 1, 1, 1, 1, 1, 1, 1, 1, 1, 1, 1, 1, 1, 1, 1, 1, 1, 1, 1, 1,\n",
       "       1, 1, 1, 1, 1, 1, 1, 1, 1, 1, 1, 1, 1, 1, 1, 1, 1, 1, 1, 1, 1, 1,\n",
       "       1, 1, 1, 1, 1, 1, 2, 2, 2, 2, 2, 2, 2, 2, 2, 2, 2, 2, 2, 2, 2, 2,\n",
       "       2, 2, 2, 2, 2, 2, 2, 2, 2, 2, 2, 2, 2, 2, 2, 2, 2, 2, 2, 2, 2, 2,\n",
       "       2, 2, 2, 2, 2, 2, 2, 2, 2, 2, 2, 2, 2, 2, 2, 2, 2, 2, 2, 2, 2, 2,\n",
       "       2, 2, 2, 2, 2, 2, 2, 2, 2, 2, 2, 2, 2, 2, 2, 2, 2, 2, 2, 2, 2, 2,\n",
       "       2, 2, 2, 2, 2, 2, 2, 2, 2, 2, 2, 2, 2, 2, 2, 2, 2, 2])"
      ]
     },
     "execution_count": 33,
     "metadata": {},
     "output_type": "execute_result"
    }
   ],
   "source": [
    "cluster_labels"
   ]
  },
  {
   "cell_type": "code",
   "execution_count": 34,
   "id": "d94c3d59",
   "metadata": {},
   "outputs": [
    {
     "name": "stdout",
     "output_type": "stream",
     "text": [
      "Cluster 1: 50\n",
      "Cluster 2: 100\n"
     ]
    }
   ],
   "source": [
    "for num in set(cluster_labels):\n",
    "    print(f\"Cluster {num}: {sum(cluster_labels==num)}\")"
   ]
  },
  {
   "cell_type": "code",
   "execution_count": null,
   "id": "719d997a",
   "metadata": {},
   "outputs": [],
   "source": []
  }
 ],
 "metadata": {
  "kernelspec": {
   "display_name": "Python 3 (ipykernel)",
   "language": "python",
   "name": "python3"
  },
  "language_info": {
   "codemirror_mode": {
    "name": "ipython",
    "version": 3
   },
   "file_extension": ".py",
   "mimetype": "text/x-python",
   "name": "python",
   "nbconvert_exporter": "python",
   "pygments_lexer": "ipython3",
   "version": "3.9.12"
  }
 },
 "nbformat": 4,
 "nbformat_minor": 5
}
